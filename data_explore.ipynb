{
 "cells": [
  {
   "cell_type": "code",
   "execution_count": 3,
   "id": "american-credits",
   "metadata": {},
   "outputs": [
    {
     "name": "stdout",
     "output_type": "stream",
     "text": [
      "The autoreload extension is already loaded. To reload it, use:\n",
      "  %reload_ext autoreload\n"
     ]
    }
   ],
   "source": [
    "%load_ext autoreload\n",
    "%autoreload 2\n",
    "\n",
    "import requests\n",
    "import random\n",
    "import numpy as np\n",
    "import tqdm\n",
    "from IPython.display import Image, display\n",
    "import matplotlib.pyplot as plt"
   ]
  },
  {
   "cell_type": "markdown",
   "id": "e6db15e6",
   "metadata": {},
   "source": [
    "## Fetch dataset"
   ]
  },
  {
   "cell_type": "code",
   "execution_count": 38,
   "id": "d87b540b",
   "metadata": {},
   "outputs": [],
   "source": [
    "link = \"http://lib.stat.cmu.edu/datasets/boston\"\n",
    "raw_text = requests.get(link).text # get the raw text\n",
    "raw_text = raw_text.split('\\n')[22:-1] # split into lines, discard description\n",
    "\n",
    "raw_data = []\n",
    "for i in range(0, len(raw_text), 2):\n",
    "    # each row is split into 2 lines, so join them first\n",
    "    row = raw_text[i] + raw_text[i+1]\n",
    "    raw_data.append(row)\n",
    "\n",
    "# split each row into columns and convert each cell -> string to float\n",
    "raw_data = [[float(column) for column in row.split()] for row in raw_data]\n",
    "raw_data = np.array(raw_data) # no error, implies equal length rows, error-free import"
   ]
  },
  {
   "cell_type": "code",
   "execution_count": 39,
   "id": "97b56d92",
   "metadata": {},
   "outputs": [
    {
     "name": "stdout",
     "output_type": "stream",
     "text": [
      "[[6.3200e-03 1.8000e+01 2.3100e+00 ... 3.9690e+02 4.9800e+00 2.4000e+01]\n",
      " [2.7310e-02 0.0000e+00 7.0700e+00 ... 3.9690e+02 9.1400e+00 2.1600e+01]\n",
      " [2.7290e-02 0.0000e+00 7.0700e+00 ... 3.9283e+02 4.0300e+00 3.4700e+01]\n",
      " ...\n",
      " [6.0760e-02 0.0000e+00 1.1930e+01 ... 3.9690e+02 5.6400e+00 2.3900e+01]\n",
      " [1.0959e-01 0.0000e+00 1.1930e+01 ... 3.9345e+02 6.4800e+00 2.2000e+01]\n",
      " [4.7410e-02 0.0000e+00 1.1930e+01 ... 3.9690e+02 7.8800e+00 1.1900e+01]]\n"
     ]
    }
   ],
   "source": [
    "print(raw_data)"
   ]
  },
  {
   "cell_type": "code",
   "execution_count": null,
   "id": "23963d90",
   "metadata": {},
   "outputs": [],
   "source": []
  }
 ],
 "metadata": {
  "kernelspec": {
   "display_name": "Python 3",
   "language": "python",
   "name": "python3"
  },
  "language_info": {
   "codemirror_mode": {
    "name": "ipython",
    "version": 3
   },
   "file_extension": ".py",
   "mimetype": "text/x-python",
   "name": "python",
   "nbconvert_exporter": "python",
   "pygments_lexer": "ipython3",
   "version": "3.8.11"
  }
 },
 "nbformat": 4,
 "nbformat_minor": 5
}
